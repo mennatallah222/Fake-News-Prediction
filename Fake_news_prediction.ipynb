{
  "nbformat": 4,
  "nbformat_minor": 0,
  "metadata": {
    "colab": {
      "provenance": [],
      "authorship_tag": "ABX9TyNZye/SZxLrfdbyO4i/8GXq",
      "include_colab_link": true
    },
    "kernelspec": {
      "name": "python3",
      "display_name": "Python 3"
    },
    "language_info": {
      "name": "python"
    }
  },
  "cells": [
    {
      "cell_type": "markdown",
      "metadata": {
        "id": "view-in-github",
        "colab_type": "text"
      },
      "source": [
        "<a href=\"https://colab.research.google.com/github/mennatallah222/Fake-New-Prediction/blob/main/Fake_news_prediction.ipynb\" target=\"_parent\"><img src=\"https://colab.research.google.com/assets/colab-badge.svg\" alt=\"Open In Colab\"/></a>"
      ]
    },
    {
      "cell_type": "code",
      "execution_count": 56,
      "metadata": {
        "id": "kydyyn4pkjmw"
      },
      "outputs": [],
      "source": [
        "import numpy as np\n",
        "import pandas as pd\n",
        "import re\n",
        "from nltk.corpus import stopwords\n",
        "from nltk.stem import PorterStemmer\n",
        "from sklearn.feature_extraction.text import TfidfVectorizer\n",
        "from sklearn.model_selection import train_test_split\n",
        "from sklearn.linear_model import LogisticRegression\n",
        "from sklearn.naive_bayes import MultinomialNB\n",
        "from sklearn.svm import LinearSVC\n",
        "from sklearn.metrics import accuracy_score"
      ]
    },
    {
      "cell_type": "code",
      "source": [
        "import nltk\n",
        "nltk.download('stopwords')"
      ],
      "metadata": {
        "id": "ZhCUPrkIl7S5",
        "colab": {
          "base_uri": "https://localhost:8080/"
        },
        "outputId": "036dce80-def2-4903-abf0-2aa965413029"
      },
      "execution_count": 3,
      "outputs": [
        {
          "output_type": "stream",
          "name": "stderr",
          "text": [
            "[nltk_data] Downloading package stopwords to /root/nltk_data...\n",
            "[nltk_data]   Package stopwords is already up-to-date!\n"
          ]
        },
        {
          "output_type": "execute_result",
          "data": {
            "text/plain": [
              "True"
            ]
          },
          "metadata": {},
          "execution_count": 3
        }
      ]
    },
    {
      "cell_type": "code",
      "source": [
        "fake_df = pd.read_csv('/content/Fake.csv', low_memory=False)\n",
        "truth_df = pd.read_csv('/content/True.csv', low_memory=False)"
      ],
      "metadata": {
        "id": "UM9WCmcemwZB"
      },
      "execution_count": 4,
      "outputs": []
    },
    {
      "cell_type": "code",
      "source": [
        "fake_df['label']=1\n",
        "truth_df['label']=0\n",
        "\n",
        "df=pd.concat([fake_df, truth_df], ignore_index=True)\n",
        "df=df.sample(frac=1).reset_index(drop=True)\n",
        "print(df.head())"
      ],
      "metadata": {
        "colab": {
          "base_uri": "https://localhost:8080/"
        },
        "id": "9VBh0OWDop5W",
        "outputId": "d67d74a9-1d1c-4806-fdec-3ee8e4232f72"
      },
      "execution_count": 5,
      "outputs": [
        {
          "output_type": "stream",
          "name": "stdout",
          "text": [
            "                                               title  \\\n",
            "0  Some Sept. 11 families join criticism of Trump...   \n",
            "1  France calls for Catalonia discussions within ...   \n",
            "2  Guatemala prosecutors target ex-president for ...   \n",
            "3  Obama to meet Senate leaders over Supreme Cour...   \n",
            "4   Trump Has A Fantastic ‘New’ Plan To Win Back ...   \n",
            "\n",
            "                                                text       subject  \\\n",
            "0  NEW YORK (Reuters) - Several relatives of vict...  politicsNews   \n",
            "1  PARIS (Reuters) - France on Wednesday reiterat...     worldnews   \n",
            "2  GUATEMALA CITY (Reuters) - Guatemala s attorne...     worldnews   \n",
            "3  WASHINGTON (Reuters) - President Barack Obama ...  politicsNews   \n",
            "4  Donald Trump is hemorrhaging Republican suppor...          News   \n",
            "\n",
            "                 date  label  \n",
            "0   January 31, 2017       0  \n",
            "1   October 11, 2017       0  \n",
            "2    October 6, 2017       0  \n",
            "3  February 25, 2016       0  \n",
            "4      August 9, 2016      1  \n"
          ]
        }
      ]
    },
    {
      "cell_type": "code",
      "source": [
        "df.shape"
      ],
      "metadata": {
        "colab": {
          "base_uri": "https://localhost:8080/"
        },
        "id": "n0KBPFJlpeq-",
        "outputId": "eba2cffd-42c7-45f3-a746-b19da549b82f"
      },
      "execution_count": 6,
      "outputs": [
        {
          "output_type": "execute_result",
          "data": {
            "text/plain": [
              "(44898, 5)"
            ]
          },
          "metadata": {},
          "execution_count": 6
        }
      ]
    },
    {
      "cell_type": "code",
      "source": [
        "rows_to_keep = len(df) // 3\n",
        "df_reduced = df.sample(n=rows_to_keep, random_state=42).reset_index(drop=True)\n",
        "df_reduced.shape"
      ],
      "metadata": {
        "colab": {
          "base_uri": "https://localhost:8080/"
        },
        "id": "GsXg_ZCa78kl",
        "outputId": "f992ecf0-2946-4c8d-83a1-5138ff07c436"
      },
      "execution_count": 16,
      "outputs": [
        {
          "output_type": "execute_result",
          "data": {
            "text/plain": [
              "(14966, 5)"
            ]
          },
          "metadata": {},
          "execution_count": 16
        }
      ]
    },
    {
      "cell_type": "code",
      "source": [
        "#counting the missing values\n",
        "df_reduced.isnull().sum()"
      ],
      "metadata": {
        "colab": {
          "base_uri": "https://localhost:8080/",
          "height": 241
        },
        "id": "8_RN9Tr4p4wr",
        "outputId": "11fb1497-68e5-4646-a468-bbc5f9be03b0"
      },
      "execution_count": 19,
      "outputs": [
        {
          "output_type": "execute_result",
          "data": {
            "text/plain": [
              "title      0\n",
              "text       0\n",
              "subject    0\n",
              "date       0\n",
              "label      0\n",
              "dtype: int64"
            ],
            "text/html": [
              "<div>\n",
              "<style scoped>\n",
              "    .dataframe tbody tr th:only-of-type {\n",
              "        vertical-align: middle;\n",
              "    }\n",
              "\n",
              "    .dataframe tbody tr th {\n",
              "        vertical-align: top;\n",
              "    }\n",
              "\n",
              "    .dataframe thead th {\n",
              "        text-align: right;\n",
              "    }\n",
              "</style>\n",
              "<table border=\"1\" class=\"dataframe\">\n",
              "  <thead>\n",
              "    <tr style=\"text-align: right;\">\n",
              "      <th></th>\n",
              "      <th>0</th>\n",
              "    </tr>\n",
              "  </thead>\n",
              "  <tbody>\n",
              "    <tr>\n",
              "      <th>title</th>\n",
              "      <td>0</td>\n",
              "    </tr>\n",
              "    <tr>\n",
              "      <th>text</th>\n",
              "      <td>0</td>\n",
              "    </tr>\n",
              "    <tr>\n",
              "      <th>subject</th>\n",
              "      <td>0</td>\n",
              "    </tr>\n",
              "    <tr>\n",
              "      <th>date</th>\n",
              "      <td>0</td>\n",
              "    </tr>\n",
              "    <tr>\n",
              "      <th>label</th>\n",
              "      <td>0</td>\n",
              "    </tr>\n",
              "  </tbody>\n",
              "</table>\n",
              "</div><br><label><b>dtype:</b> int64</label>"
            ]
          },
          "metadata": {},
          "execution_count": 19
        }
      ]
    },
    {
      "cell_type": "code",
      "source": [
        "#separating the data from the target col\n",
        "X=df_reduced.drop(columns='label', axis=1)\n",
        "Y=df_reduced['label']"
      ],
      "metadata": {
        "id": "wQmEOEAZrbNA"
      },
      "execution_count": 59,
      "outputs": []
    },
    {
      "cell_type": "code",
      "source": [
        "print(X)\n",
        "print(Y)"
      ],
      "metadata": {
        "colab": {
          "base_uri": "https://localhost:8080/"
        },
        "id": "l0y7tOrXr7S7",
        "outputId": "4b379c9a-e950-4d7f-9106-b0c56899edde"
      },
      "execution_count": 24,
      "outputs": [
        {
          "output_type": "stream",
          "name": "stdout",
          "text": [
            "                                                   title  \\\n",
            "0      White House open to small changes on corporate...   \n",
            "1      Man with sword injures police outside UK Queen...   \n",
            "2      Trump's tariff plan could boomerang, spark tra...   \n",
            "3       GOP Senator BURNS The Hell Out Of Trump With ...   \n",
            "4      GOD SQUAD: Jury Finds Polygamous Mormon Towns ...   \n",
            "...                                                  ...   \n",
            "14961   Republican Senator STUNS In Town Hall, Admits...   \n",
            "14962  WATCH: DEMOCRAT STATE SENATOR Who Said She Wou...   \n",
            "14963  BILL CLINTON GETS HAMMERED By Protesters In Ph...   \n",
            "14964  U.S. Senate Democratic leader dismisses Republ...   \n",
            "14965   Cops Dragged A Half-Naked Woman Into Her Cour...   \n",
            "\n",
            "                                                    text       subject  \\\n",
            "0      WASHINGTON (Reuters) - The White House is will...  politicsNews   \n",
            "1      (Reuters) - A man who assaulted police officer...     worldnews   \n",
            "2       WASHINGTON (Reuters) - Donald Trump’s threats...  politicsNews   \n",
            "3      GOP Senator Ben Sasse of Nebraska has been one...          News   \n",
            "4      Jamie Ross Courthouse News ServicePHOENIX   Tw...   Middle-east   \n",
            "...                                                  ...           ...   \n",
            "14961  There s a lot of buzz about the GOP s latest e...          News   \n",
            "14962  Last week, MO State Senator Chappelle-Nadal sa...     left-news   \n",
            "14963  Bill Clinton was in Philly today and got swamp...      politics   \n",
            "14964  WASHINGTON (Reuters) - U.S. Senate Democratic ...  politicsNews   \n",
            "14965  A Louisville, Kentucky Metro Corrections judge...          News   \n",
            "\n",
            "                     date  \n",
            "0       December 3, 2017   \n",
            "1        August 25, 2017   \n",
            "2         March 24, 2016   \n",
            "3            July 9, 2016  \n",
            "4          March 12, 2016  \n",
            "...                   ...  \n",
            "14961  September 22, 2017  \n",
            "14962        Aug 21, 2017  \n",
            "14963         Apr 7, 2016  \n",
            "14964      June 23, 2016   \n",
            "14965       July 30, 2016  \n",
            "\n",
            "[14966 rows x 4 columns]\n",
            "0        0\n",
            "1        0\n",
            "2        0\n",
            "3        1\n",
            "4        1\n",
            "        ..\n",
            "14961    1\n",
            "14962    1\n",
            "14963    1\n",
            "14964    0\n",
            "14965    1\n",
            "Name: label, Length: 14966, dtype: int64\n"
          ]
        }
      ]
    },
    {
      "cell_type": "code",
      "source": [
        "port_stem=PorterStemmer()"
      ],
      "metadata": {
        "id": "7aMqdNdtsE-3"
      },
      "execution_count": 25,
      "outputs": []
    },
    {
      "cell_type": "code",
      "source": [
        "def stemming_process(text):\n",
        "  stemmed_text=re.sub('[^a-zA-Z]', ' ', text)\n",
        "  stemmed_text=stemmed_text.lower()\n",
        "  stemmed_text=stemmed_text.split()\n",
        "  stemmed_text=[port_stem.stem(word) for word in stemmed_text if not word in stopwords.words('english')]\n",
        "  stemmed_text=' '.join(stemmed_text)\n",
        "  return stemmed_text"
      ],
      "metadata": {
        "id": "T6N6PcrpsiaT"
      },
      "execution_count": 26,
      "outputs": []
    },
    {
      "cell_type": "code",
      "source": [
        "df_reduced['text']=df_reduced['text'].apply(stemming_process)"
      ],
      "metadata": {
        "id": "643RskSnvPZT"
      },
      "execution_count": 27,
      "outputs": []
    },
    {
      "cell_type": "code",
      "source": [
        "print(df_reduced['text'])"
      ],
      "metadata": {
        "colab": {
          "base_uri": "https://localhost:8080/"
        },
        "id": "eM47UEFVAaRc",
        "outputId": "d2bbdada-ea52-4c00-cecd-f372bb63fb92"
      },
      "execution_count": 28,
      "outputs": [
        {
          "output_type": "stream",
          "name": "stdout",
          "text": [
            "0        washington reuter white hous will consid small...\n",
            "1        reuter man assault polic offic four foot sword...\n",
            "2        washington reuter donald trump threat slap ste...\n",
            "3        gop senat ben sass nebraska one trump vocal cr...\n",
            "4        jami ross courthous news servicephoenix two to...\n",
            "                               ...                        \n",
            "14961    lot buzz gop latest effort repeal replac obama...\n",
            "14962    last week mo state senat chappel nadal said ho...\n",
            "14963    bill clinton philli today got swamp protest ho...\n",
            "14964    washington reuter u senat democrat leader harr...\n",
            "14965    louisvil kentucki metro correct judg outrag ja...\n",
            "Name: text, Length: 14966, dtype: object\n"
          ]
        }
      ]
    },
    {
      "cell_type": "code",
      "source": [
        "#separating the data from the target\n",
        "X=df_reduced['text'].values\n",
        "Y=df_reduced['label'].values"
      ],
      "metadata": {
        "id": "AK12wv-8BhUT"
      },
      "execution_count": 29,
      "outputs": []
    },
    {
      "cell_type": "code",
      "source": [
        "print(X)\n",
        "print(Y)"
      ],
      "metadata": {
        "colab": {
          "base_uri": "https://localhost:8080/"
        },
        "id": "szH4qJpKBwV7",
        "outputId": "10b24fb7-3e17-48f6-ddf2-d72b41bdb41d"
      },
      "execution_count": 31,
      "outputs": [
        {
          "output_type": "stream",
          "name": "stdout",
          "text": [
            "['washington reuter white hous will consid small increas corpor tax rate need final bill u congress white hous budget chief mick mulvaney said sunday mulvaney made comment presid donald trump suggest saturday corpor tax rate could end percent senat hous repres reconcil confer respect version legisl even though bill current stand percent understand senat bill percent rate hous percent rate happi number mulvaney said interview cb face nation someth small happen confer get us across finish line look case case basi think see signific chang posit corpor tax mulvaney said'\n",
            " 'reuter man assault polic offic four foot sword outsid queen elizabeth buckingham palac resid shout allahu akbar god greatest question counter terror polic saturday two unarm offic suffer slight cut detain man drove polic van friday even took sword front passeng foot well car london metropolitan polic said earli say man plan said command dean haydon head met counter terror command believ man act alon look suspect stage said right investig terrorist incid time europ high alert follow string milit attack includ four year britain kill peopl countri threat level remain sever mean attack highli like member royal famili present palac magnet tourist britain capit peak august holiday weekend want thank offic act quickli brave protect public last night demonstr dedic profession polic prime minist theresa may said messag twitter suspect initi arrest suspicion grievou bodili harm assault polic arrest britain terror act polic said investig year old man luton area ethnic divers town mile km north london polic carri investig link milit attack includ one earlier year london westminst bridg partner saw sword well policeman blood look like hand chest injur polic offic hand walk away said unnam wit quot time newspap said tourist run away scene someth happen peopl ran away sure peopl alreadi scare saw policeman pull man car wit said suspect treat london hospit minor injuri report injuri time remind threat terror uk remain sever haydon ad polic togeth secur servic everyth protect public alreadi enhanc polic plan bank holiday weekend keep public safe'\n",
            " 'washington reuter donald trump threat slap steep tariff chines mexican import may vote republican primari would like backfir sever disrupt u manufactur increasingli depend global suppli chain republican presidenti front runner campaign pledg impos percent tariff import china percent mani good mexico would spark financi market turmoil possibl even recess former trade negoti trade lawyer economist busi execut told reuter mind trade war lose billion year trump said feb debat refer u good trade deficit mexico economist disput idea unit state lose money trade deficit simpli differ unit state import export countri impos tariff put trade barrier may sound good hurt economi credibl said wendi cutler former act deputi u trade repres help lead u negoti nation tran pacif partnership trade deal last year among hardest hit would u auto industri fulli integr mexico product network billion worth vehicl part flow north south across border tariff free last year accord u commerc depart data percent tariff would rais cost ford motor co u assembl f seri medium duti pickup truck use mexican made diesel engin one profit vehicl line graphic u mexico auto part trade tmsnrt rs un wun ford ceo mark field wednesday defend compani invest strategi includ billion u plant next four year say make sens busi buyer fiat chrysler automobil nv popular ram pickup truck assembl saltillo mexico could see base price push tariff fulli pass consum chrysler spokesman declin comment trump statement trump campaign said statement u trade polici constitut unilater econom surrend need complet chang allow foreign competitor shut u import devalu currenc unfairli target u industri think issu favor make incred jingoist bombast said scott paul presid allianc american manufactur group alli domest steelmak manufactur unit steelwork union believ widespread agreement someth amiss econom relationship china past time govern push back littl forc would take year u industri rebuild suppli chain devast sudden tariff hike chines mexican good retaliatori measur said peter petri brandei univers professor co author influenti studi effect tpp trade deal nation incom even u firm abl make transit petri said would like result perman annual reduct u nation incom billion percent trump tariff plan would effect violat nafta revok u commit world trade organ say trade lawyer beij mexico citi go retali thing like hurt us said susan schwab u trade repres georg w bush administr schwab negoti major portion free trade agreement south korea colombia panama mexico slap duti percent differ u farm good pork frozen potato due foot drag u lawmak allow mexican trucker u road specifi nafta nation potato council estim u grower lost million revenu month percent cut third largest export market mexico economi minist ildefonso guajardo said last week big tariff mexico would return unit state isolationist xenophob protectionist vision full scale tariff war china would like expos largest u export sector steep duti includ aircraft semiconductor corn soybean trade lawyer said retaliatori tariff would also hurt grow u vehicl export china year equival annual output larg assembl plant gener motor co plan import buick sport util vehicl chines joint ventur plant gm spokesman declin comment china state run global time newspap call trump big mouth anti tradit abus forthright editori directli address tariff propos long run u china trade disput solar panel illustr tariff sometim caus unanticip damag u commerc depart slap anti dump duti percent chines solar panel german own solarworld ag complain cost chines import hurt u product china respond percent duti u produc polycrystallin silicon raw materi photovolta cell put brake industri fast expand meet demand chines solar panel maker hemlock semiconductor control dow corn abandon construct billion new polysilicon plant dow corn spokesman jarrod erpeld said hemlock serv strong exampl trade disput often unintend consequ realli stupid said francin sullivan chief legal offic rec silicon mose lake washington halt product year necess valu put tariff protect solar panel u thought suffer enorm financi damag result trump campaign said measur like tariff would level play field help bring million manufactur job back unit state durwin oodi royal furnac oper u steel corp lone star tubular oper texa know first hand relief temporari worker plant cheer unit state impos anti dump duti chines drill pipe compani announc friday would temporarili idl tube mill lay worker battl slump u oil ga drill continu global steel glut unfairli trade import slap tariff one countri import come anoth countri said royal expect among worker idl tariff impos china south korean import surg said right limp along like everybodi els'\n",
            " ...\n",
            " 'bill clinton philli today got swamp protest hold sign black live matter benghazi ugli even wors bill decid give blm protest dose truth go well probabl win hillari vote squirm worthi moment polit one sign read hillari murder clinton got heat argument black live matter protest campaign wife hillari clinton philadelphia battl protest passag crimin justic reform clinton tri address protest continu yell answer thing like protest one let answer afraid truth told crowd applaus former presid note hillari noth reform defend anyway bill year low crime year low murder rate listen background check law year low death peopl gun violenc think live matter whose live save matter one protest yell bill charg crime human ohohohoho clinton respond know would character gang leader got year old kid hop crack sent street murder african american children visibl angri clinton shot back mayb thought good citizen defend peopl kill peopl whose live say matter clinton continu call protest talk answer afraid truth told crowd afraid truth bill clinton get protest hard philli crime welfar bill go get headlin pic twitter com jmyitwujm andrew jerel jone sluggahjel april via mediat'\n",
            " 'washington reuter u senat democrat leader harri reid said agreement announc wednesday hous repres republican billion new fund fight zika viru seriou respons threat narrowli partisan propos cut women access birth control shortchang veteran rescind obamacar fund cover cost seriou respons threat zika viru reid said statement'\n",
            " 'louisvil kentucki metro correct judg outrag jail offici drag femal african american inmat woman wear jail jumpsuit appear wear pant period speak inmat say deni feminin hygien product well hell go clearli exasper judg amber wolf demand upon see woman whose attorney explain jailer refus give pant kind hygien product need specif feminin hygien product outrag real judg ask wonder twilight zone wait wolf said pull phone angrili made phone call demand someon come explain woman given pant hell go wolf said phone hold dress appropri go back jail outrag demand court staff find anyth care woman could use cover jail offici say woman wear athlet short one wear arrest three day prior made court appear word forc wear dirti cloth multipl day row defens top jail spokesman steve durham say standard practic put inmat sort dehuman treatment pretti standard individu arrest remain cloth arrest especi first hour metro correct deputi director dwayn clark brought defend pant say complet improp dress like chang jumpsuit said gotta look wolf releas woman put fail complet divers program year old shoplift charg time serv fine say jail also drop ball hold day normal never seen happen wolf told woman describ treatment complet inhuman sorri go judg said watch footag badass robe stand someon basic human right wdrb louisvil newsfeatur imag via screengrab']\n",
            "[0 0 0 ... 1 0 1]\n"
          ]
        }
      ]
    },
    {
      "cell_type": "code",
      "source": [
        "Y.shape"
      ],
      "metadata": {
        "colab": {
          "base_uri": "https://localhost:8080/"
        },
        "id": "9d3a-9fAC6of",
        "outputId": "49dff045-b557-4c71-b763-28803e689311"
      },
      "execution_count": 32,
      "outputs": [
        {
          "output_type": "execute_result",
          "data": {
            "text/plain": [
              "(14966,)"
            ]
          },
          "metadata": {},
          "execution_count": 32
        }
      ]
    },
    {
      "cell_type": "code",
      "source": [
        "#converting the textual data to numerical\n",
        "vectorizer=TfidfVectorizer()\n",
        "\n",
        "vectorizer.fit(X)\n",
        "\n",
        "X=vectorizer.transform(X)"
      ],
      "metadata": {
        "id": "qEip6Q2RDByc"
      },
      "execution_count": 33,
      "outputs": []
    },
    {
      "cell_type": "code",
      "source": [
        "print(X)"
      ],
      "metadata": {
        "colab": {
          "base_uri": "https://localhost:8080/"
        },
        "id": "7hkLPt0nEIJX",
        "outputId": "f33f9713-0ba2-44b1-9f22-1dd2c494ea7f"
      },
      "execution_count": 34,
      "outputs": [
        {
          "output_type": "stream",
          "name": "stdout",
          "text": [
            "  (0, 51723)\t0.08832762446644396\n",
            "  (0, 51563)\t0.09986251881550151\n",
            "  (0, 51027)\t0.04779359307318235\n",
            "  (0, 50186)\t0.0930887228149099\n",
            "  (0, 49670)\t0.05484622210680915\n",
            "  (0, 48998)\t0.07716536549741379\n",
            "  (0, 48005)\t0.03505686601753964\n",
            "  (0, 46907)\t0.06626447549965617\n",
            "  (0, 46839)\t0.05202388316952598\n",
            "  (0, 46153)\t0.22082027382653233\n",
            "  (0, 45274)\t0.06985639505221722\n",
            "  (0, 45179)\t0.07071251873096711\n",
            "  (0, 44366)\t0.0664160238139381\n",
            "  (0, 43724)\t0.06573038811947075\n",
            "  (0, 43364)\t0.16143925214817098\n",
            "  (0, 42856)\t0.0877493523422377\n",
            "  (0, 41899)\t0.1118002553746121\n",
            "  (0, 41778)\t0.05364461943202249\n",
            "  (0, 41145)\t0.07467563318819165\n",
            "  (0, 40722)\t0.08167351424824998\n",
            "  (0, 39347)\t0.035733415704978684\n",
            "  (0, 39243)\t0.0776839872074551\n",
            "  (0, 39143)\t0.060324798735193426\n",
            "  (0, 38631)\t0.13558817239834342\n",
            "  (0, 38303)\t0.3122375740315407\n",
            "  :\t:\n",
            "  (14965, 8865)\t0.02364435896535212\n",
            "  (14965, 8505)\t0.10827865289831437\n",
            "  (14965, 8391)\t0.03879731292043565\n",
            "  (14965, 8341)\t0.0635980972790105\n",
            "  (14965, 7613)\t0.03260392356207327\n",
            "  (14965, 7568)\t0.028361428526792014\n",
            "  (14965, 6911)\t0.033267484852053365\n",
            "  (14965, 6634)\t0.020349365753119273\n",
            "  (14965, 5981)\t0.039734433093506244\n",
            "  (14965, 3720)\t0.042433380851770584\n",
            "  (14965, 3380)\t0.056558587354570325\n",
            "  (14965, 3225)\t0.08005496208467583\n",
            "  (14965, 3181)\t0.022825555864335656\n",
            "  (14965, 2796)\t0.036441013148222685\n",
            "  (14965, 2721)\t0.06137862689206014\n",
            "  (14965, 2568)\t0.024981548155842682\n",
            "  (14965, 2423)\t0.11339345158840611\n",
            "  (14965, 2132)\t0.04546460334385746\n",
            "  (14965, 2097)\t0.05927543708821332\n",
            "  (14965, 1995)\t0.03497200857017194\n",
            "  (14965, 1783)\t0.06912774762081178\n",
            "  (14965, 1500)\t0.022548053499462456\n",
            "  (14965, 1462)\t0.07438010654734258\n",
            "  (14965, 1340)\t0.018747464575569684\n",
            "  (14965, 668)\t0.04278801304084809\n"
          ]
        }
      ]
    },
    {
      "cell_type": "code",
      "source": [
        "x_train, x_test, y_train, y_test=train_test_split(X, Y, test_size=0.3, stratify=Y, random_state=3)"
      ],
      "metadata": {
        "id": "Rz97WMK0EMI_"
      },
      "execution_count": 36,
      "outputs": []
    },
    {
      "cell_type": "markdown",
      "source": [
        "**Models**"
      ],
      "metadata": {
        "id": "ZePDa4aPEz--"
      }
    },
    {
      "cell_type": "code",
      "source": [
        "#Logistic Regression\n",
        "lr_model=LogisticRegression()\n",
        "lr_model.fit(x_train, y_train)\n",
        "\n",
        "x_train_pred=lr_model.predict(x_train)\n",
        "data_accuracy=accuracy_score(x_train_pred, y_train)\n",
        "print(\"Accuracy of data training\", data_accuracy)\n",
        "\n",
        "x_test_pred=lr_model.predict(x_test)\n",
        "test_data_accuracy=accuracy_score(x_test_pred, y_test)\n",
        "print(\"Accuracy of the test data: \", test_data_accuracy)\n"
      ],
      "metadata": {
        "colab": {
          "base_uri": "https://localhost:8080/"
        },
        "id": "Ii5xxhd0Egx5",
        "outputId": "ee1f1281-0643-45e4-861b-9c75025ff292"
      },
      "execution_count": 54,
      "outputs": [
        {
          "output_type": "stream",
          "name": "stdout",
          "text": [
            "Accuracy of data training 0.9887361588392516\n",
            "Accuracy of the test data:  0.9788418708240535\n"
          ]
        }
      ]
    },
    {
      "cell_type": "code",
      "source": [
        "#Naive Bayes\n",
        "nb_model=MultinomialNB()\n",
        "nb_model.fit(x_train, y_train)\n",
        "\n",
        "x_train_pred_nb=nb_model.predict(x_train)\n",
        "data_accuracy_nb=accuracy_score(x_train_pred_nb, y_train)\n",
        "print(\"Accuracy of data training\", data_accuracy_nb)\n",
        "\n",
        "x_test_pred_nb=nb_model.predict(x_test)\n",
        "test_data_accuracy_nb=accuracy_score(x_test_pred_nb, y_test)\n",
        "print(\"Accuracy of the test data: \", test_data_accuracy_nb)"
      ],
      "metadata": {
        "colab": {
          "base_uri": "https://localhost:8080/"
        },
        "id": "a5dlhWM_FcZd",
        "outputId": "b6750973-ab89-4305-cb3b-fe53a36db005"
      },
      "execution_count": 55,
      "outputs": [
        {
          "output_type": "stream",
          "name": "stdout",
          "text": [
            "Accuracy of data training 0.9452080946926308\n",
            "Accuracy of the test data:  0.9325167037861916\n"
          ]
        }
      ]
    },
    {
      "cell_type": "code",
      "source": [
        "#SVM\n",
        "svm_model=LinearSVC(dual=False)\n",
        "svm_model.fit(x_train, y_train)\n",
        "\n",
        "x_train_pred_svm=svm_model.predict(x_train)\n",
        "data_accuracy_svm=accuracy_score(x_train_pred_svm, y_train)\n",
        "print(\"Accuracy of data training\", data_accuracy_svm)\n",
        "\n",
        "x_test_pred_svm=svm_model.predict(x_test)\n",
        "test_data_accuracy_svm=accuracy_score(x_test_pred_svm, y_test)\n",
        "print(\"Accuracy of the test data: \", test_data_accuracy_svm)"
      ],
      "metadata": {
        "colab": {
          "base_uri": "https://localhost:8080/"
        },
        "id": "O0k2puFZq3eD",
        "outputId": "a3ba0c66-d446-4dbf-f4a5-1550700585d3"
      },
      "execution_count": 58,
      "outputs": [
        {
          "output_type": "stream",
          "name": "stdout",
          "text": [
            "Accuracy of data training 0.9997136311569301\n",
            "Accuracy of the test data:  0.987750556792873\n"
          ]
        }
      ]
    }
  ]
}